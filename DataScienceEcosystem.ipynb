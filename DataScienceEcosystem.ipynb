{
 "cells": [
  {
   "cell_type": "markdown",
   "id": "b3080c0e",
   "metadata": {},
   "source": [
    "# Data Science Tools and Ecosystem"
   ]
  },
  {
   "cell_type": "markdown",
   "id": "538dd903",
   "metadata": {},
   "source": [
    "In this notebook, Data Science Tools and Ecosystem are summarized."
   ]
  },
  {
   "cell_type": "markdown",
   "id": "90f967b6",
   "metadata": {},
   "source": [
    "Some of the popular languages that Data Scientists use are the following:\n",
    "    1. Python\n",
    "    2. R\n",
    "    3. Java\n",
    "    4. MatLab\n",
    "    5. Scala\n",
    "    6. Julia\n",
    "    7. SAS\n",
    "    6. Spark\n",
    "    8. TensorFlow and PyTorch"
   ]
  },
  {
   "cell_type": "markdown",
   "id": "6216e2c5",
   "metadata": {},
   "source": [
    "Some of the commonly used libraries used by the Data Scientists are the following:\n",
    "    1. Pandas\n",
    "    2. NumPy\n",
    "    3. Matplotlib\n",
    "    4. Seaborn\n",
    "    5. PyTorch"
   ]
  },
  {
   "cell_type": "markdown",
   "id": "8d1898e4",
   "metadata": {},
   "source": [
    "| Data Science Tools |\n",
    "|--------------------|\n",
    "| Jupyter Notebook   |\n",
    "| RStudio            |\n",
    "| Apache Zeppelin    |\n"
   ]
  },
  {
   "cell_type": "markdown",
   "id": "30cf6f92",
   "metadata": {},
   "source": [
    "###Evaluating arithmetic expressions in Python"
   ]
  },
  {
   "cell_type": "code",
   "execution_count": 1,
   "id": "62471cdd",
   "metadata": {},
   "outputs": [
    {
     "name": "stdout",
     "output_type": "stream",
     "text": [
      "17\n"
     ]
    }
   ],
   "source": [
    "# This a simple arithmetic expression to mutiply then add integers\n",
    "arith_opr = (3*4)+5\n",
    "print(arith_opr)"
   ]
  },
  {
   "cell_type": "code",
   "execution_count": 1,
   "id": "2019b973",
   "metadata": {},
   "outputs": [
    {
     "name": "stdout",
     "output_type": "stream",
     "text": [
      "3.3333333333333335\n"
     ]
    },
    {
     "data": {
      "text/plain": [
       "3.3333333333333335"
      ]
     },
     "execution_count": 1,
     "metadata": {},
     "output_type": "execute_result"
    }
   ],
   "source": [
    "# This will convert 200 minutes to hours by diving by 60\n",
    "def converter(min_1, min_2):\n",
    "    convert = min_1/min_2\n",
    "    result = convert\n",
    "    print(result)\n",
    "    return convert\n",
    "\n",
    "converter(min_1=200, min_2=60 )"
   ]
  },
  {
   "cell_type": "markdown",
   "id": "5699f4f4",
   "metadata": {},
   "source": [
    "**Objectives**\n",
    "   - Data Science Tool.\n",
    "   - The languages that the Data Scintist uses. \n",
    "   - The libraries used by Data Scientist.\n",
    "   - Evaluation of arithmetic expressions.\n",
    "   - Minutes to Hour"
   ]
  },
  {
   "cell_type": "markdown",
   "id": "08d8c558",
   "metadata": {},
   "source": [
    "##Author\n",
    "Javier A. Diaz"
   ]
  }
 ],
 "metadata": {
  "kernelspec": {
   "display_name": "Python 3 (ipykernel)",
   "language": "python",
   "name": "python3"
  },
  "language_info": {
   "codemirror_mode": {
    "name": "ipython",
    "version": 3
   },
   "file_extension": ".py",
   "mimetype": "text/x-python",
   "name": "python",
   "nbconvert_exporter": "python",
   "pygments_lexer": "ipython3",
   "version": "3.9.13"
  }
 },
 "nbformat": 4,
 "nbformat_minor": 5
}
